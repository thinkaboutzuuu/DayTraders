{
 "cells": [
  {
   "cell_type": "code",
   "execution_count": 34,
   "metadata": {},
   "outputs": [
    {
     "name": "stdout",
     "output_type": "stream",
     "text": [
      "(1557, 9)\n",
      "(1557,)\n"
     ]
    }
   ],
   "source": [
    "import pandas as pd\n",
    "\n",
    "df = pd.read_csv(\"./Data/NVDA_cleaned.csv\")\n",
    "\n",
    "# features = ['Close', 'High', 'Low', 'Open', 'Volume', 'Price_200EMA_diff', 'MA_CO_signal_-1', 'MA_CO_signal_0', 'MA_CO_signal_1', \n",
    "#             'Close_1', 'High_1', 'Low_1', 'Open_1', 'Volume_1', 'Price_200EMA_diff_1', \n",
    "#             'Close_2', 'High_2', 'Low_2', 'Open_2', 'Volume_2', 'Price_200EMA_diff_2',\n",
    "#             'Close_3', 'High_3', 'Low_3', 'Open_3', 'Volume_3', 'Price_200EMA_diff_3']\n",
    "features = ['Close', 'High', 'Low', 'Open', 'Volume', 'Price_200EMA_diff', 'MA_CO_signal_-1', 'MA_CO_signal_0', 'MA_CO_signal_1']\n",
    "\n",
    "df_features = df[features]\n",
    "df_target = df['T_reg']\n",
    "\n",
    "print(df_features.shape)\n",
    "print(df_target.shape)"
   ]
  },
  {
   "cell_type": "code",
   "execution_count": 35,
   "metadata": {},
   "outputs": [
    {
     "name": "stdout",
     "output_type": "stream",
     "text": [
      "Fitting 5 folds for each of 360 candidates, totalling 1800 fits\n",
      "Best parameters from GridSearchCV: {'lambda': 10, 'learning_rate': 0.001, 'max_depth': 2, 'n_estimators': 100}\n",
      "Best CV Score (nmse): -0.00013874746351350733\n"
     ]
    }
   ],
   "source": [
    "from xgboost import XGBRegressor\n",
    "from sklearn.model_selection import TimeSeriesSplit, GridSearchCV\n",
    "from sklearn.preprocessing import MinMaxScaler\n",
    "\n",
    "X = df_features\n",
    "y = df_target\n",
    "\n",
    "train_size = int(len(df) * 0.8)\n",
    "\n",
    "X_train = X.iloc[:train_size]\n",
    "y_train = y.iloc[:train_size]\n",
    "\n",
    "X_val = X.iloc[train_size:]\n",
    "y_val = y.iloc[train_size:]\n",
    "\n",
    "scaler = MinMaxScaler()\n",
    "X_train_scaled = scaler.fit_transform(X_train)\n",
    "X_val_scaled = scaler.fit_transform(X_val)\n",
    "\n",
    "\n",
    "model = XGBRegressor(\n",
    "    # use_label_encoder = False,\n",
    "    # eval_metric = 'logloss',\n",
    "    random_state = 42\n",
    ")\n",
    "\n",
    "param_grid = {\n",
    "    'n_estimators': [100, 150, 200, 300, 500],\n",
    "    'learning_rate': [0.01, 0.1, 0.001],\n",
    "    'max_depth': [2, 3, 5, 7],\n",
    "    'lambda': [0.01, 0.1, 1, 2, 5, 10]\n",
    "}\n",
    "\n",
    "tscv = TimeSeriesSplit(n_splits=5)\n",
    "\n",
    "grid_search = GridSearchCV(\n",
    "    estimator=model,\n",
    "    param_grid=param_grid,\n",
    "    scoring='neg_mean_squared_error', \n",
    "    cv=tscv,\n",
    "    n_jobs=-1,            \n",
    "    verbose=1\n",
    ")\n",
    "\n",
    "\n",
    "grid_search.fit(X_train_scaled, y_train)\n",
    "print(\"Best parameters from GridSearchCV:\", grid_search.best_params_)\n",
    "print(\"Best CV Score (nmse):\", grid_search.best_score_)\n",
    "\n",
    "\n",
    "# model.fit(X_train_scaled, y_train)\n"
   ]
  },
  {
   "cell_type": "code",
   "execution_count": 36,
   "metadata": {},
   "outputs": [
    {
     "name": "stdout",
     "output_type": "stream",
     "text": [
      "Validation MSE: 9.84137694558986e-05\n"
     ]
    }
   ],
   "source": [
    "from sklearn.metrics import mean_squared_error\n",
    "\n",
    "best_model = grid_search.best_estimator_\n",
    "best_model.fit(X_train_scaled,y_train)\n",
    "\n",
    "\n",
    "y_val_pred = best_model.predict(X_val_scaled)\n",
    "\n",
    "mse = mean_squared_error(y_val, y_val_pred)\n",
    "\n",
    "print(\"Validation MSE:\", mse)"
   ]
  },
  {
   "cell_type": "code",
   "execution_count": 37,
   "metadata": {},
   "outputs": [
    {
     "name": "stdout",
     "output_type": "stream",
     "text": [
      "             feature  importance\n",
      "2                Low    0.651564\n",
      "5  Price_200EMA_diff    0.250363\n",
      "3               Open    0.098073\n",
      "0              Close    0.000000\n",
      "1               High    0.000000\n",
      "4             Volume    0.000000\n",
      "6    MA_CO_signal_-1    0.000000\n",
      "7     MA_CO_signal_0    0.000000\n",
      "8     MA_CO_signal_1    0.000000\n"
     ]
    }
   ],
   "source": [
    "importances = best_model.feature_importances_\n",
    "feature_importance_df = pd.DataFrame({\n",
    "    'feature': features,\n",
    "    'importance': importances\n",
    "}).sort_values('importance', ascending=False)\n",
    "\n",
    "print(feature_importance_df)"
   ]
  },
  {
   "cell_type": "code",
   "execution_count": 38,
   "metadata": {},
   "outputs": [
    {
     "name": "stderr",
     "output_type": "stream",
     "text": [
      "/Users/guanyulu/anaconda3/envs/btcp/lib/python3.8/site-packages/xgboost/core.py:158: UserWarning: [00:56:30] WARNING: /var/folders/k1/30mswbxs7r1g6zwn8y4fyt500000gp/T/abs_d9k8pmaj4_/croot/xgboost-split_1724073758172/work/src/c_api/c_api.cc:1374: Saving model in the UBJSON format as default.  You can use file extension: `json`, `ubj` or `deprecated` to choose between formats.\n",
      "  warnings.warn(smsg, UserWarning)\n"
     ]
    }
   ],
   "source": [
    "best_model.save_model('xgb_regressor.model')"
   ]
  },
  {
   "cell_type": "code",
   "execution_count": null,
   "metadata": {},
   "outputs": [],
   "source": []
  }
 ],
 "metadata": {
  "kernelspec": {
   "display_name": "btcp",
   "language": "python",
   "name": "python3"
  },
  "language_info": {
   "codemirror_mode": {
    "name": "ipython",
    "version": 3
   },
   "file_extension": ".py",
   "mimetype": "text/x-python",
   "name": "python",
   "nbconvert_exporter": "python",
   "pygments_lexer": "ipython3",
   "version": "3.8.18"
  }
 },
 "nbformat": 4,
 "nbformat_minor": 2
}
