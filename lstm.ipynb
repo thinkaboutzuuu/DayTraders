{
 "cells": [
  {
   "cell_type": "code",
   "execution_count": 73,
   "metadata": {},
   "outputs": [],
   "source": [
    "import pandas as pd\n",
    "\n",
    "df = pd.read_csv(\"./Data/NVDA_cleaned.csv\")\n",
    "def add_future_price(df, shift_days=1):\n",
    "    df['Next Close'] = df['Close'].shift(-shift_days)\n",
    "    df['T_reg'] = (df['Next Close'] - df['Close']) / df['Close']\n",
    "    df['T_cla'] = df['T_reg'].apply(lambda x: 1 if x > 0 else 0)\n",
    "    return df\n",
    "\n",
    "df = add_future_price(df, 1)\n",
    "df = df.dropna()\n",
    "# print(df.tail())\n",
    "\n",
    "features = ['Close', 'High', 'Low', 'Open', 'Volume', 'Price_200EMA_diff', 'MA_CO_signal_-1', 'MA_CO_signal_0', 'MA_CO_signal_1', \n",
    "            'T_reg']\n",
    "df_feature = df[features]\n",
    "\n",
    "n = len(df)\n",
    "train_df = df.iloc[:int(n*0.70)]\n",
    "val_df   = df.iloc[int(n*0.70):int(n*0.85)]\n",
    "test_df  = df.iloc[int(n*0.85):]\n"
   ]
  },
  {
   "cell_type": "code",
   "execution_count": 74,
   "metadata": {},
   "outputs": [
    {
     "data": {
      "text/plain": [
       "['lstm_scaler.joblib']"
      ]
     },
     "execution_count": 74,
     "metadata": {},
     "output_type": "execute_result"
    }
   ],
   "source": [
    "from sklearn.preprocessing import MinMaxScaler\n",
    "import joblib\n",
    "\n",
    "scaler = MinMaxScaler()\n",
    "train_scaled = scaler.fit_transform(train_df[features])\n",
    "val_scaled = scaler.transform(val_df[features])\n",
    "test_scaled = scaler.transform(test_df[features])\n",
    "joblib.dump(scaler, 'lstm_scaler.joblib')\n",
    "\n",
    "\n",
    "# train_target = train_scaled['']\n"
   ]
  },
  {
   "cell_type": "code",
   "execution_count": 75,
   "metadata": {},
   "outputs": [],
   "source": [
    "import numpy as np\n",
    "def create_sequences(data, target, lookback=30):\n",
    "    X, y = [], []\n",
    "    for i in range(len(data) - lookback):\n",
    "        seq_x = data[i : i+lookback]\n",
    "        seq_y = data[i+lookback, target]\n",
    "        X.append(seq_x)\n",
    "        y.append(seq_y)\n",
    "    return np.array(X), np.array(y)"
   ]
  },
  {
   "cell_type": "code",
   "execution_count": 76,
   "metadata": {},
   "outputs": [
    {
     "name": "stdout",
     "output_type": "stream",
     "text": [
      "X_train shape: (1059, 30, 10)\n",
      "y_train shape: (1059,)\n",
      "X_val shape: (204, 30, 10)\n",
      "y_val shape: (204,)\n",
      "X_test shape: (204, 30, 10)\n",
      "y_test shape: (204,)\n"
     ]
    }
   ],
   "source": [
    "t = df_feature.columns.get_loc('T_reg')  \n",
    "\n",
    "X_train, y_train = create_sequences(train_scaled, t)\n",
    "X_val,   y_val   = create_sequences(val_scaled, t)\n",
    "X_test,  y_test  = create_sequences(test_scaled, t)\n",
    "\n",
    "print(\"X_train shape:\", X_train.shape)  \n",
    "print(\"y_train shape:\", y_train.shape)\n",
    "print(\"X_val shape:\",   X_val.shape)\n",
    "print(\"y_val shape:\",   y_val.shape)\n",
    "print(\"X_test shape:\",  X_test.shape)\n",
    "print(\"y_test shape:\",  y_test.shape)\n"
   ]
  },
  {
   "cell_type": "code",
   "execution_count": 77,
   "metadata": {},
   "outputs": [],
   "source": [
    "# import tensorflow as tf \n",
    "# from tensorflow.keras.models import Sequential\n",
    "# from tensorflow.keras.layers import Dense, LSTM, Dropout\n",
    "# from tensorflow.keras.optimizers.legacy import Adam\n",
    "# from keras.callbacks import EarlyStopping\n",
    "\n",
    "# model = Sequential([\n",
    "#     LSTM(units = 128, return_sequences = True, input_shape=(30, len(features))), \n",
    "#     Dropout(0.1),\n",
    "#     LSTM(units = 64),\n",
    "#     Dropout(0.1),\n",
    "#     Dense(units = 1)\n",
    "# ])\n",
    "\n",
    "# model.compile(optimizer = Adam(learning_rate=0.01), loss = 'mse')\n",
    "\n",
    "# early_stopping = EarlyStopping(monitor='val_loss', \n",
    "#                                 min_delta=0.001,  \n",
    "#                                 patience= 15,  \n",
    "#                                 restore_best_weights=True)\n",
    "\n",
    "# history = model.fit(\n",
    "#     X_train, y_train,\n",
    "#     validation_data=(X_val, y_val),\n",
    "#     epochs=80,\n",
    "#     batch_size=64,\n",
    "#     verbose=1,\n",
    "#     callbacks=[early_stopping]\n",
    "# )"
   ]
  },
  {
   "cell_type": "code",
   "execution_count": 78,
   "metadata": {},
   "outputs": [],
   "source": [
    "from keras_tuner import HyperModel\n",
    "import tensorflow as tf \n",
    "from tensorflow.keras.models import Sequential\n",
    "from tensorflow.keras.layers import Dense, LSTM, Dropout\n",
    "from tensorflow.keras.optimizers.legacy import Adam\n",
    "\n",
    "class LSTMHyperModel(HyperModel):\n",
    "    def __init__(self, input_shape, num_features):\n",
    "        self.input_shape = input_shape\n",
    "        self.num_features = num_features\n",
    "\n",
    "    def build(self, hp):\n",
    "        model = Sequential()\n",
    "        \n",
    "        for i in range(hp.Int('num_layers', 1, 3)):\n",
    "            units = hp.Choice(f'units_{i}', values=[64, 128, 256])\n",
    "            return_sequences = True if i < (hp.get('num_layers') - 1) else False\n",
    "\n",
    "            if i == 0:\n",
    "                model.add(LSTM(\n",
    "                    units=units, \n",
    "                    return_sequences=return_sequences, \n",
    "                    input_shape=self.input_shape\n",
    "                ))\n",
    "            else:\n",
    "                model.add(LSTM(\n",
    "                    units=units, \n",
    "                    return_sequences=return_sequences\n",
    "                ))\n",
    "\n",
    "            dropout_rate = hp.Float(f'dropout_{i}', 0.0, 0.5, step=0.1)\n",
    "            model.add(Dropout(rate=dropout_rate))\n",
    "        \n",
    "        model.add(Dense(units=1, activation='linear'))\n",
    "        \n",
    "        learning_rate = hp.Choice('learning_rate', values=[1e-2, 1e-3, 1e-4])\n",
    "        optimizer = Adam(learning_rate=learning_rate)\n",
    "        \n",
    "        model.compile(optimizer=optimizer, loss='mse', metrics=['mae'])\n",
    "        return model\n"
   ]
  },
  {
   "cell_type": "code",
   "execution_count": 79,
   "metadata": {},
   "outputs": [
    {
     "name": "stdout",
     "output_type": "stream",
     "text": [
      "Reloading Tuner from lstm_tuner/lstm_hyperparameter_tuning/tuner0.json\n"
     ]
    }
   ],
   "source": [
    "from keras_tuner import RandomSearch\n",
    "from keras_tuner.engine.hyperparameters import HyperParameters\n",
    "from keras.callbacks import EarlyStopping, ReduceLROnPlateau\n",
    "\n",
    "input_shape = (30, len(features))\n",
    "num_features = len(features)\n",
    "hypermodel = LSTMHyperModel(input_shape=input_shape, num_features=num_features)\n",
    "\n",
    "tuner = RandomSearch(\n",
    "    hypermodel,\n",
    "    objective='val_loss',\n",
    "    max_trials=20,\n",
    "    executions_per_trial=1,\n",
    "    directory='lstm_tuner',\n",
    "    project_name='lstm_hyperparameter_tuning'\n",
    ")\n",
    "\n",
    "early_stopping = EarlyStopping(\n",
    "    monitor='val_loss', \n",
    "    min_delta=0.001,  \n",
    "    patience=15,  \n",
    "    restore_best_weights=True\n",
    ")\n",
    "\n",
    "lr_scheduler = ReduceLROnPlateau(\n",
    "    monitor='val_loss',\n",
    "    factor=0.5,\n",
    "    patience=5,\n",
    "    verbose=1,\n",
    "    min_lr=1e-6\n",
    ")\n"
   ]
  },
  {
   "cell_type": "code",
   "execution_count": 80,
   "metadata": {},
   "outputs": [
    {
     "name": "stdout",
     "output_type": "stream",
     "text": [
      "Best Hyperparameters:\n",
      "Number of Layers: 2\n",
      "  Layer 1 Units: 256\n",
      "  Layer 1 Dropout: 0.1\n",
      "  Layer 2 Units: 128\n",
      "  Layer 2 Dropout: 0.0\n",
      "Learning Rate: 0.01\n",
      "Epoch 1/80\n"
     ]
    },
    {
     "name": "stderr",
     "output_type": "stream",
     "text": [
      "2025-01-05 01:54:08.857663: I tensorflow/core/grappler/optimizers/custom_graph_optimizer_registry.cc:114] Plugin optimizer for device_type GPU is enabled.\n",
      "2025-01-05 01:54:09.557279: I tensorflow/core/grappler/optimizers/custom_graph_optimizer_registry.cc:114] Plugin optimizer for device_type GPU is enabled.\n",
      "2025-01-05 01:54:09.969128: I tensorflow/core/grappler/optimizers/custom_graph_optimizer_registry.cc:114] Plugin optimizer for device_type GPU is enabled.\n",
      "2025-01-05 01:54:10.265574: I tensorflow/core/grappler/optimizers/custom_graph_optimizer_registry.cc:114] Plugin optimizer for device_type GPU is enabled.\n",
      "2025-01-05 01:54:10.650613: I tensorflow/core/grappler/optimizers/custom_graph_optimizer_registry.cc:114] Plugin optimizer for device_type GPU is enabled.\n"
     ]
    },
    {
     "name": "stdout",
     "output_type": "stream",
     "text": [
      "17/17 [==============================] - ETA: 0s - loss: 1.7562 - mae: 0.6523"
     ]
    },
    {
     "name": "stderr",
     "output_type": "stream",
     "text": [
      "2025-01-05 01:54:12.273247: I tensorflow/core/grappler/optimizers/custom_graph_optimizer_registry.cc:114] Plugin optimizer for device_type GPU is enabled.\n",
      "2025-01-05 01:54:12.353379: I tensorflow/core/grappler/optimizers/custom_graph_optimizer_registry.cc:114] Plugin optimizer for device_type GPU is enabled.\n",
      "2025-01-05 01:54:12.485951: I tensorflow/core/grappler/optimizers/custom_graph_optimizer_registry.cc:114] Plugin optimizer for device_type GPU is enabled.\n"
     ]
    },
    {
     "name": "stdout",
     "output_type": "stream",
     "text": [
      "17/17 [==============================] - 5s 120ms/step - loss: 1.7562 - mae: 0.6523 - val_loss: 0.0616 - val_mae: 0.2445 - lr: 0.0100\n",
      "Epoch 2/80\n",
      "17/17 [==============================] - 1s 36ms/step - loss: 0.0132 - mae: 0.0889 - val_loss: 0.0094 - val_mae: 0.0911 - lr: 0.0100\n",
      "Epoch 3/80\n",
      "17/17 [==============================] - 1s 31ms/step - loss: 0.0062 - mae: 0.0569 - val_loss: 0.0022 - val_mae: 0.0369 - lr: 0.0100\n",
      "Epoch 4/80\n",
      "17/17 [==============================] - 1s 34ms/step - loss: 0.0046 - mae: 0.0480 - val_loss: 0.0017 - val_mae: 0.0289 - lr: 0.0100\n",
      "Epoch 5/80\n",
      "17/17 [==============================] - 1s 30ms/step - loss: 0.0047 - mae: 0.0474 - val_loss: 0.0017 - val_mae: 0.0288 - lr: 0.0100\n",
      "Epoch 6/80\n",
      "17/17 [==============================] - 0s 26ms/step - loss: 0.0044 - mae: 0.0444 - val_loss: 0.0016 - val_mae: 0.0250 - lr: 0.0100\n",
      "Epoch 7/80\n",
      "17/17 [==============================] - 0s 27ms/step - loss: 0.0041 - mae: 0.0423 - val_loss: 0.0016 - val_mae: 0.0258 - lr: 0.0100\n",
      "Epoch 8/80\n",
      "17/17 [==============================] - 0s 26ms/step - loss: 0.0041 - mae: 0.0420 - val_loss: 0.0016 - val_mae: 0.0244 - lr: 0.0100\n",
      "Epoch 9/80\n",
      "17/17 [==============================] - 0s 24ms/step - loss: 0.0039 - mae: 0.0408 - val_loss: 0.0016 - val_mae: 0.0263 - lr: 0.0100\n",
      "Epoch 10/80\n",
      "17/17 [==============================] - 0s 25ms/step - loss: 0.0040 - mae: 0.0400 - val_loss: 0.0015 - val_mae: 0.0244 - lr: 0.0100\n",
      "Epoch 11/80\n",
      "15/17 [=========================>....] - ETA: 0s - loss: 0.0040 - mae: 0.0399\n",
      "Epoch 11: ReduceLROnPlateau reducing learning rate to 0.004999999888241291.\n",
      "17/17 [==============================] - 0s 25ms/step - loss: 0.0039 - mae: 0.0397 - val_loss: 0.0015 - val_mae: 0.0243 - lr: 0.0100\n",
      "Epoch 12/80\n",
      "17/17 [==============================] - 0s 29ms/step - loss: 0.0038 - mae: 0.0390 - val_loss: 0.0015 - val_mae: 0.0242 - lr: 0.0050\n",
      "Epoch 13/80\n",
      "17/17 [==============================] - 0s 29ms/step - loss: 0.0039 - mae: 0.0391 - val_loss: 0.0015 - val_mae: 0.0241 - lr: 0.0050\n",
      "Epoch 14/80\n",
      "17/17 [==============================] - 0s 25ms/step - loss: 0.0038 - mae: 0.0390 - val_loss: 0.0015 - val_mae: 0.0255 - lr: 0.0050\n",
      "Epoch 15/80\n",
      "17/17 [==============================] - 0s 24ms/step - loss: 0.0037 - mae: 0.0386 - val_loss: 0.0016 - val_mae: 0.0273 - lr: 0.0050\n",
      "Epoch 16/80\n",
      "17/17 [==============================] - 0s 23ms/step - loss: 0.0038 - mae: 0.0385 - val_loss: 0.0015 - val_mae: 0.0246 - lr: 0.0050\n",
      "Epoch 17/80\n",
      "17/17 [==============================] - 0s 24ms/step - loss: 0.0038 - mae: 0.0386 - val_loss: 0.0015 - val_mae: 0.0241 - lr: 0.0050\n",
      "Epoch 18/80\n",
      "17/17 [==============================] - 0s 25ms/step - loss: 0.0038 - mae: 0.0384 - val_loss: 0.0015 - val_mae: 0.0251 - lr: 0.0050\n"
     ]
    }
   ],
   "source": [
    "# Perform hyperparameter search\n",
    "tuner.search(\n",
    "    X_train, y_train,\n",
    "    epochs=80,\n",
    "    batch_size=64,  # You can experiment with different batch sizes manually\n",
    "    validation_data=(X_val, y_val),\n",
    "    callbacks=[early_stopping, lr_scheduler]\n",
    ")\n",
    "\n",
    "# Retrieve the best hyperparameters\n",
    "best_hps = tuner.get_best_hyperparameters(num_trials=1)[0]\n",
    "\n",
    "print(\"Best Hyperparameters:\")\n",
    "print(f\"Number of Layers: {best_hps.get('num_layers')}\")\n",
    "for i in range(best_hps.get('num_layers')):\n",
    "    print(f\"  Layer {i+1} Units: {best_hps.get(f'units_{i}')}\")\n",
    "    print(f\"  Layer {i+1} Dropout: {best_hps.get(f'dropout_{i}')}\")\n",
    "print(f\"Learning Rate: {best_hps.get('learning_rate')}\")\n",
    "\n",
    "# Build and train the final model\n",
    "final_model = tuner.hypermodel.build(best_hps)\n",
    "\n",
    "history = final_model.fit(\n",
    "    X_train, y_train,\n",
    "    epochs=80,\n",
    "    batch_size=64,  # Use the best batch size if tuned separately\n",
    "    validation_data=(X_val, y_val),\n",
    "    callbacks=[early_stopping, lr_scheduler]\n",
    ")\n"
   ]
  },
  {
   "cell_type": "code",
   "execution_count": 81,
   "metadata": {},
   "outputs": [
    {
     "name": "stderr",
     "output_type": "stream",
     "text": [
      "/Users/guanyulu/anaconda3/envs/btcp/lib/python3.8/site-packages/keras/src/engine/training.py:3000: UserWarning: You are saving your model as an HDF5 file via `model.save()`. This file format is considered legacy. We recommend using instead the native Keras format, e.g. `model.save('my_model.keras')`.\n",
      "  saving_api.save_model(\n"
     ]
    }
   ],
   "source": [
    "final_model.save('lstm.h5')"
   ]
  },
  {
   "cell_type": "code",
   "execution_count": 82,
   "metadata": {},
   "outputs": [
    {
     "data": {
      "image/png": "[encoded data removed]",
      "text/plain": [
       "<Figure size 640x480 with 1 Axes>"
      ]
     },
     "metadata": {},
     "output_type": "display_data"
    }
   ],
   "source": [
    "import matplotlib.pyplot as plt\n",
    "\n",
    "plt.plot(history.history['loss'], label='Train Loss')\n",
    "plt.plot(history.history['val_loss'], label='Val Loss')\n",
    "plt.title('Loss over epochs')\n",
    "plt.xlabel('Epoch')\n",
    "plt.ylabel('Loss')\n",
    "plt.legend()\n",
    "plt.show()\n"
   ]
  },
  {
   "cell_type": "code",
   "execution_count": 88,
   "metadata": {},
   "outputs": [
    {
     "name": "stdout",
     "output_type": "stream",
     "text": [
      "Test MSE Loss: [0.002896695164963603, 0.03780427202582359]\n",
      "7/7 [==============================] - 0s 6ms/step\n",
      "y_pred shape: (204, 1)\n",
      "y_pred : [0.37550923]\n"
     ]
    }
   ],
   "source": [
    "test_loss = final_model.evaluate(X_test, y_test, verbose=0)\n",
    "print(\"Test MSE Loss:\", test_loss)\n",
    "\n",
    "y_pred = final_model.predict(X_test)\n",
    "print(\"y_pred shape:\", y_pred.shape)\n",
    "print(\"y_pred :\", y_pred[-204])\n"
   ]
  },
  {
   "cell_type": "code",
   "execution_count": null,
   "metadata": {},
   "outputs": [
    {
     "ename": "ValueError",
     "evalue": "non-broadcastable output operand with shape (204,1) doesn't match the broadcast shape (204,10)",
     "output_type": "error",
     "traceback": [
      "\u001b[0;31m---------------------------------------------------------------------------\u001b[0m",
      "\u001b[0;31mValueError\u001b[0m                                Traceback (most recent call last)",
      "Cell \u001b[0;32mIn[90], line 6\u001b[0m\n\u001b[1;32m      1\u001b[0m \u001b[38;5;28;01mimport\u001b[39;00m \u001b[38;5;21;01mmatplotlib\u001b[39;00m\u001b[38;5;21;01m.\u001b[39;00m\u001b[38;5;21;01mpyplot\u001b[39;00m \u001b[38;5;28;01mas\u001b[39;00m \u001b[38;5;21;01mplt\u001b[39;00m\n\u001b[1;32m      3\u001b[0m \u001b[38;5;66;03m# y_test: actual target values (shape: (num_samples,) or similar)\u001b[39;00m\n\u001b[1;32m      4\u001b[0m \u001b[38;5;66;03m# y_pred: predicted values from your model (same shape as y_test)\u001b[39;00m\n\u001b[0;32m----> 6\u001b[0m y_pred_original \u001b[38;5;241m=\u001b[39m \u001b[43mscaler\u001b[49m\u001b[38;5;241;43m.\u001b[39;49m\u001b[43minverse_transform\u001b[49m\u001b[43m(\u001b[49m\u001b[43my_pred\u001b[49m\u001b[43m)\u001b[49m\n\u001b[1;32m      7\u001b[0m plt\u001b[38;5;241m.\u001b[39mfigure(figsize\u001b[38;5;241m=\u001b[39m(\u001b[38;5;241m10\u001b[39m, \u001b[38;5;241m6\u001b[39m))\n\u001b[1;32m      8\u001b[0m plt\u001b[38;5;241m.\u001b[39mplot(y_test, label\u001b[38;5;241m=\u001b[39m\u001b[38;5;124m'\u001b[39m\u001b[38;5;124mActual\u001b[39m\u001b[38;5;124m'\u001b[39m)\n",
      "File \u001b[0;32m~/anaconda3/envs/btcp/lib/python3.8/site-packages/sklearn/preprocessing/_data.py:548\u001b[0m, in \u001b[0;36mMinMaxScaler.inverse_transform\u001b[0;34m(self, X)\u001b[0m\n\u001b[1;32m    542\u001b[0m check_is_fitted(\u001b[38;5;28mself\u001b[39m)\n\u001b[1;32m    544\u001b[0m X \u001b[38;5;241m=\u001b[39m check_array(\n\u001b[1;32m    545\u001b[0m     X, copy\u001b[38;5;241m=\u001b[39m\u001b[38;5;28mself\u001b[39m\u001b[38;5;241m.\u001b[39mcopy, dtype\u001b[38;5;241m=\u001b[39mFLOAT_DTYPES, force_all_finite\u001b[38;5;241m=\u001b[39m\u001b[38;5;124m\"\u001b[39m\u001b[38;5;124mallow-nan\u001b[39m\u001b[38;5;124m\"\u001b[39m\n\u001b[1;32m    546\u001b[0m )\n\u001b[0;32m--> 548\u001b[0m X \u001b[38;5;241m-\u001b[39m\u001b[38;5;241m=\u001b[39m \u001b[38;5;28mself\u001b[39m\u001b[38;5;241m.\u001b[39mmin_\n\u001b[1;32m    549\u001b[0m X \u001b[38;5;241m/\u001b[39m\u001b[38;5;241m=\u001b[39m \u001b[38;5;28mself\u001b[39m\u001b[38;5;241m.\u001b[39mscale_\n\u001b[1;32m    550\u001b[0m \u001b[38;5;28;01mreturn\u001b[39;00m X\n",
      "\u001b[0;31mValueError\u001b[0m: non-broadcastable output operand with shape (204,1) doesn't match the broadcast shape (204,10)"
     ]
    }
   ],
   "source": [
    "import matplotlib.pyplot as plt\n",
    "\n",
    "# y_test: actual target values (shape: (num_samples,) or similar)\n",
    "# y_pred: predicted values from your model (same shape as y_test)\n",
    "\n",
    "# y_pred_original = scaler.inverse_transform(y_pred)\n",
    "plt.figure(figsize=(10, 6))\n",
    "plt.plot(y_test, label='Actual')\n",
    "plt.plot(y_pred, label='Predicted')\n",
    "plt.title('Comparison of Actual vs. Predicted')\n",
    "plt.xlabel('Samples (Test Data Index)')\n",
    "plt.ylabel('Target Value')\n",
    "plt.legend()\n",
    "plt.show()\n"
   ]
  },
  {
   "cell_type": "code",
   "execution_count": null,
   "metadata": {},
   "outputs": [],
   "source": []
  }
 ],
 "metadata": {
  "kernelspec": {
   "display_name": "btcp",
   "language": "python",
   "name": "python3"
  },
  "language_info": {
   "codemirror_mode": {
    "name": "ipython",
    "version": 3
   },
   "file_extension": ".py",
   "mimetype": "text/x-python",
   "name": "python",
   "nbconvert_exporter": "python",
   "pygments_lexer": "ipython3",
   "version": "3.8.18"
  }
 },
 "nbformat": 4,
 "nbformat_minor": 2
}
